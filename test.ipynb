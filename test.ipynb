{
 "cells": [
  {
   "cell_type": "code",
   "execution_count": 76,
   "id": "759b8680",
   "metadata": {},
   "outputs": [],
   "source": [
    "import requests\n",
    "import json"
   ]
  },
  {
   "cell_type": "code",
   "execution_count": 82,
   "id": "bc84ec3e",
   "metadata": {},
   "outputs": [
    {
     "data": {
      "text/plain": [
       "{'blocked': False,\n",
       " 'base_url': 'https://new.myfreemp3juices.cc',\n",
       " 'path': '/api/api_search.php?callback=',\n",
       " 'jquery_version': 'jQuery2130996268872647724_1681673767647'}"
      ]
     },
     "execution_count": 82,
     "metadata": {},
     "output_type": "execute_result"
    }
   ],
   "source": [
    "response = requests.get(\"http://bloemetjesgordijn.github.io/tuneinator/config.json\")\n",
    "response_dict = json.loads(response.text)\n",
    "response_dict"
   ]
  },
  {
   "cell_type": "code",
   "execution_count": null,
   "id": "efea0587",
   "metadata": {},
   "outputs": [],
   "source": []
  },
  {
   "cell_type": "code",
   "execution_count": null,
   "id": "59ea0247",
   "metadata": {},
   "outputs": [],
   "source": []
  },
  {
   "cell_type": "code",
   "execution_count": 88,
   "id": "94044182",
   "metadata": {},
   "outputs": [],
   "source": [
    "import glob"
   ]
  },
  {
   "cell_type": "code",
   "execution_count": 97,
   "id": "f489fd64",
   "metadata": {},
   "outputs": [],
   "source": [
    "tunelocation = \"‪C:/Users/casbe/Downloads/tunedownloads/Believe Me - Navos.mp3\"\n"
   ]
  },
  {
   "cell_type": "code",
   "execution_count": 98,
   "id": "32018f85",
   "metadata": {},
   "outputs": [
    {
     "data": {
      "text/plain": [
       "[]"
      ]
     },
     "execution_count": 98,
     "metadata": {},
     "output_type": "execute_result"
    }
   ],
   "source": [
    "specky"
   ]
  },
  {
   "cell_type": "code",
   "execution_count": null,
   "id": "d2255692",
   "metadata": {},
   "outputs": [],
   "source": []
  }
 ],
 "metadata": {
  "kernelspec": {
   "display_name": "Python 3 (ipykernel)",
   "language": "python",
   "name": "python3"
  },
  "language_info": {
   "codemirror_mode": {
    "name": "ipython",
    "version": 3
   },
   "file_extension": ".py",
   "mimetype": "text/x-python",
   "name": "python",
   "nbconvert_exporter": "python",
   "pygments_lexer": "ipython3",
   "version": "3.10.1"
  }
 },
 "nbformat": 4,
 "nbformat_minor": 5
}
