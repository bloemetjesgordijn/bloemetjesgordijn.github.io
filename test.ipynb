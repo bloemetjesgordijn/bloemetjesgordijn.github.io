{
 "cells": [
  {
   "cell_type": "code",
   "execution_count": 20,
   "id": "e9ca9004",
   "metadata": {},
   "outputs": [],
   "source": [
    "import requests\n",
    "import json"
   ]
  },
  {
   "cell_type": "code",
   "execution_count": 39,
   "id": "11b04cb1",
   "metadata": {},
   "outputs": [],
   "source": [
    "response = requests.get(\"http://bloemetjesgordijn.github.io/tuneinator/config.json\")\n",
    "response_dict = json.loads(response.text)"
   ]
  },
  {
   "cell_type": "code",
   "execution_count": 40,
   "id": "89d28f43",
   "metadata": {},
   "outputs": [
    {
     "data": {
      "text/plain": [
       "{'eerste': 'bb', 'tweede': 'aa'}"
      ]
     },
     "execution_count": 40,
     "metadata": {},
     "output_type": "execute_result"
    }
   ],
   "source": [
    "response_dict"
   ]
  },
  {
   "cell_type": "code",
   "execution_count": null,
   "id": "ed42284b",
   "metadata": {},
   "outputs": [],
   "source": []
  },
  {
   "cell_type": "code",
   "execution_count": null,
   "id": "58490961",
   "metadata": {},
   "outputs": [],
   "source": []
  },
  {
   "cell_type": "code",
   "execution_count": null,
   "id": "2ad9a063",
   "metadata": {},
   "outputs": [],
   "source": []
  }
 ],
 "metadata": {
  "kernelspec": {
   "display_name": "Python 3 (ipykernel)",
   "language": "python",
   "name": "python3"
  },
  "language_info": {
   "codemirror_mode": {
    "name": "ipython",
    "version": 3
   },
   "file_extension": ".py",
   "mimetype": "text/x-python",
   "name": "python",
   "nbconvert_exporter": "python",
   "pygments_lexer": "ipython3",
   "version": "3.10.1"
  }
 },
 "nbformat": 4,
 "nbformat_minor": 5
}
