{
 "cells": [
  {
   "cell_type": "code",
   "execution_count": 60,
   "id": "1d190550",
   "metadata": {},
   "outputs": [],
   "source": [
    "import requests\n",
    "import json"
   ]
  },
  {
   "cell_type": "code",
   "execution_count": 61,
   "id": "3d5aac35",
   "metadata": {},
   "outputs": [],
   "source": [
    "response = requests.get(\"http://bloemetjesgordijn.github.io/tuneinator/config.json\")\n",
    "response_dict = json.loads(response.text)"
   ]
  },
  {
   "cell_type": "code",
   "execution_count": 62,
   "id": "9cc68bb6",
   "metadata": {},
   "outputs": [
    {
     "data": {
      "text/plain": [
       "{'blocked': False,\n",
       " 'base_url': 'https://new.myfreemp3juices.cc',\n",
       " 'path': '/api/api_search.php?callback=',\n",
       " 'jquery_version': 'jQuery2130996268872647724_1681673767647'}"
      ]
     },
     "execution_count": 62,
     "metadata": {},
     "output_type": "execute_result"
    }
   ],
   "source": [
    "response_dict"
   ]
  },
  {
   "cell_type": "code",
   "execution_count": null,
   "id": "830dec53",
   "metadata": {},
   "outputs": [],
   "source": []
  },
  {
   "cell_type": "code",
   "execution_count": null,
   "id": "e9197e04",
   "metadata": {},
   "outputs": [],
   "source": []
  },
  {
   "cell_type": "code",
   "execution_count": null,
   "id": "1dbddc93",
   "metadata": {},
   "outputs": [],
   "source": []
  }
 ],
 "metadata": {
  "kernelspec": {
   "display_name": "Python 3 (ipykernel)",
   "language": "python",
   "name": "python3"
  },
  "language_info": {
   "codemirror_mode": {
    "name": "ipython",
    "version": 3
   },
   "file_extension": ".py",
   "mimetype": "text/x-python",
   "name": "python",
   "nbconvert_exporter": "python",
   "pygments_lexer": "ipython3",
   "version": "3.10.1"
  }
 },
 "nbformat": 4,
 "nbformat_minor": 5
}
